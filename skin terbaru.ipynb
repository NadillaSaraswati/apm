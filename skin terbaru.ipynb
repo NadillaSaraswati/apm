{
 "cells": [
  {
   "cell_type": "code",
   "execution_count": 1,
   "id": "a55e9ea8",
   "metadata": {},
   "outputs": [
    {
     "data": {
      "text/plain": [
       "''"
      ]
     },
     "execution_count": 1,
     "metadata": {},
     "output_type": "execute_result"
    }
   ],
   "source": [
    "import tensorflow as tf \n",
    "tf.test.gpu_device_name()"
   ]
  },
  {
   "cell_type": "code",
   "execution_count": 2,
   "id": "0d36eed2",
   "metadata": {},
   "outputs": [
    {
     "data": {
      "text/plain": [
       "[name: \"/device:CPU:0\"\n",
       " device_type: \"CPU\"\n",
       " memory_limit: 268435456\n",
       " locality {\n",
       " }\n",
       " incarnation: 7645711980893028718\n",
       " xla_global_id: -1]"
      ]
     },
     "execution_count": 2,
     "metadata": {},
     "output_type": "execute_result"
    }
   ],
   "source": [
    "from tensorflow.python.client import device_lib\n",
    "device_lib.list_local_devices()"
   ]
  },
  {
   "cell_type": "code",
   "execution_count": 3,
   "id": "f1485850",
   "metadata": {},
   "outputs": [],
   "source": [
    "\n",
    "#Model1 - VGG\n",
    "\n",
    "import keras \n",
    "from keras.models import Sequential\n",
    "from keras.layers import Conv2D\n",
    "from keras.layers import MaxPool2D\n",
    "from keras.layers import Flatten\n",
    "from keras.layers import Dense\n",
    "\n",
    "#import dropout class if needed\n",
    "from keras.layers import Dropout\n",
    "\n",
    "from keras import regularizers\n",
    "\n",
    "model = Sequential()\n",
    "model.add(Conv2D(input_shape=(224,224,3),filters=64,kernel_size=(3,3),padding=\"same\", activation=\"relu\",strides=1))\n",
    "model.add(Conv2D(filters=64,kernel_size=(3,3),padding=\"same\", activation=\"relu\",strides=1))\n",
    "model.add(MaxPool2D(pool_size=(2,2),strides=(2,2)))\n",
    "model.add(Conv2D(filters=128, kernel_size=(3,3), padding=\"same\", activation=\"relu\"))\n",
    "model.add(Conv2D(filters=128, kernel_size=(3,3), padding=\"same\", activation=\"relu\"))\n",
    "model.add(MaxPool2D(pool_size=(2,2),strides=(2,2)))\n",
    "model.add(Conv2D(filters=256, kernel_size=(3,3), padding=\"same\", activation=\"relu\"))\n",
    "model.add(Conv2D(filters=256, kernel_size=(3,3), padding=\"same\", activation=\"relu\"))\n",
    "model.add(Conv2D(filters=256, kernel_size=(3,3), padding=\"same\", activation=\"relu\"))\n",
    "model.add(MaxPool2D(pool_size=(2,2),strides=(2,2)))\n",
    "model.add(Conv2D(filters=512, kernel_size=(3,3), padding=\"same\", activation=\"relu\"))\n",
    "model.add(Conv2D(filters=512, kernel_size=(3,3), padding=\"same\", activation=\"relu\"))\n",
    "model.add(Conv2D(filters=512, kernel_size=(3,3), padding=\"same\", activation=\"relu\"))\n",
    "model.add(MaxPool2D(pool_size=(2,2),strides=(2,2)))\n",
    "model.add(Conv2D(filters=512, kernel_size=(3,3), padding=\"same\", activation=\"relu\"))\n",
    "model.add(Conv2D(filters=512, kernel_size=(3,3), padding=\"same\", activation=\"relu\"))\n",
    "model.add(Conv2D(filters=512, kernel_size=(3,3), padding=\"same\", activation=\"relu\"))\n",
    "model.add(MaxPool2D(pool_size=(2,2),strides=(2,2)))\n",
    "\n",
    "#Flatten\n",
    "model.add(Flatten())\n",
    "#Layer 3\n",
    "#Fully connected layer 1\n",
    "model.add(Dense(units=4096,activation='relu'))\n",
    "                     #,kernel_regularizer=regularizers.l2(0.01)))\n",
    "model.add(Dropout(rate=0.5))\n",
    "#Layer 4\n",
    "#Fully connected layer 2\n",
    "model.add(Dense(units=4096,activation='relu'))\n",
    "                     #,kernel_regularizer=regularizers.l2(0.01)))\n",
    "model.add(Dropout(rate=0.5))\n",
    "#Layer 5\n",
    "#Output Layer\n",
    "model.add(Dense(units = 1, activation = 'sigmoid'))\n",
    "\n",
    "#compile\n",
    "model.compile(optimizer = 'adam', loss = 'binary_crossentropy', metrics = ['accuracy'])\n"
   ]
  },
  {
   "cell_type": "code",
   "execution_count": 4,
   "id": "9fb05ac8",
   "metadata": {},
   "outputs": [],
   "source": [
    "#Model 2 - Sinmple CNN\n",
    "\n",
    "from keras.models import Sequential\n",
    "from keras.layers import Conv2D, MaxPooling2D\n",
    "from keras.layers import Activation, Dropout, Flatten, Dense\n",
    "\n",
    "model = Sequential()\n",
    "model.add(Conv2D(32, (3, 3), input_shape=(150, 150,3)))\n",
    "model.add(Activation('relu'))\n",
    "model.add(MaxPooling2D(pool_size=(2, 2)))\n",
    "\n",
    "model.add(Conv2D(32, (3, 3)))\n",
    "model.add(Activation('relu'))\n",
    "model.add(MaxPooling2D(pool_size=(2, 2)))\n",
    "\n",
    "model.add(Conv2D(64, (3, 3)))\n",
    "model.add(Activation('relu'))\n",
    "model.add(MaxPooling2D(pool_size=(2, 2)))\n",
    "\n",
    "model.add(Flatten())  # this converts our 3D feature maps to 1D feature vectors\n",
    "model.add(Dense(64))\n",
    "model.add(Activation('relu'))\n",
    "model.add(Dropout(0.5))\n",
    "model.add(Dense(units=1))\n",
    "model.add(Activation('sigmoid'))\n",
    "\n",
    "model.compile(loss='binary_crossentropy',\n",
    "              optimizer='rmsprop',\n",
    "              metrics=['accuracy'])\n"
   ]
  },
  {
   "cell_type": "code",
   "execution_count": 5,
   "id": "fba0380d",
   "metadata": {},
   "outputs": [
    {
     "name": "stdout",
     "output_type": "stream",
     "text": [
      "Found 2637 images belonging to 2 classes.\n",
      "Found 660 images belonging to 2 classes.\n"
     ]
    }
   ],
   "source": [
    "from keras.preprocessing.image import ImageDataGenerator,array_to_img, img_to_array, load_img\n",
    "\n",
    "#Image Augmentation\n",
    "train_datagen = ImageDataGenerator(\n",
    "        rescale=1./255, #rescaling pixel value bw 0 and 1\n",
    "        shear_range=0.2,\n",
    "        zoom_range=0.2,\n",
    "        horizontal_flip=True,\n",
    "        vertical_flip=True,\n",
    "        rotation_range=40,\n",
    "        width_shift_range=0.2,\n",
    "        height_shift_range=0.2,\n",
    "        fill_mode='nearest'\n",
    "        )\n",
    "\n",
    "#Just Feature scaling\n",
    "test_datagen = ImageDataGenerator(rescale=1./255)\n",
    "\n",
    "training_set = train_datagen.flow_from_directory(\n",
    "       'C:/Users/HP/Downloads/dataset/train',\n",
    "        target_size=(150, 150),\n",
    "        batch_size=13,\n",
    "        class_mode='binary')\n",
    "\n",
    "test_set = test_datagen.flow_from_directory(\n",
    "        'C:/Users/HP/Downloads/dataset/test',\n",
    "        target_size=(150, 150),\n",
    "        batch_size=13,\n",
    "        class_mode='binary')\n"
   ]
  },
  {
   "cell_type": "code",
   "execution_count": 8,
   "id": "21fb0c6d",
   "metadata": {
    "scrolled": true
   },
   "outputs": [],
   "source": [
    "img = load_img('C:/Users/HP/Downloads/dataset/train/malignant/812.jpg')  # this is a PIL image\n",
    "x = img_to_array(img)  # this is a Numpy array with shape (3, 150, 150)\n",
    "x = x.reshape((1,) + x.shape)  # this is a Numpy array with shape (1, 3, 150, 150)\n",
    "\n",
    "# the .flow() command below generates batches of randomly transformed images\n",
    "# and saves the results to the `preview/` directory\n",
    "i = 0\n",
    "for batch in train_datagen.flow(x, batch_size=1,\n",
    "                          save_to_dir='C:/Users/HP/Downloads/dataset/', save_prefix='skin', save_format='jpeg'):\n",
    "    i += 1\n",
    "    if i > 20:\n",
    "        break  # otherwise the generator would loop indefinitely"
   ]
  },
  {
   "cell_type": "code",
   "execution_count": 9,
   "id": "9b7b1a68",
   "metadata": {},
   "outputs": [
    {
     "name": "stderr",
     "output_type": "stream",
     "text": [
      "C:\\Users\\HP\\AppData\\Local\\Temp/ipykernel_23164/3524936733.py:1: UserWarning: `Model.fit_generator` is deprecated and will be removed in a future version. Please use `Model.fit`, which supports generators.\n",
      "  history = model.fit_generator(\n"
     ]
    },
    {
     "name": "stdout",
     "output_type": "stream",
     "text": [
      "Epoch 1/50\n",
      "133/133 [==============================] - 44s 324ms/step - loss: 0.6961 - accuracy: 0.6202 - val_loss: 0.5585 - val_accuracy: 0.6442\n",
      "Epoch 2/50\n",
      "133/133 [==============================] - 32s 243ms/step - loss: 0.5977 - accuracy: 0.7016 - val_loss: 0.5382 - val_accuracy: 0.7404\n",
      "Epoch 3/50\n",
      "133/133 [==============================] - 29s 215ms/step - loss: 0.5728 - accuracy: 0.7114 - val_loss: 0.6275 - val_accuracy: 0.6250\n",
      "Epoch 4/50\n",
      "133/133 [==============================] - 27s 204ms/step - loss: 0.5534 - accuracy: 0.7267 - val_loss: 0.5730 - val_accuracy: 0.7308\n",
      "Epoch 5/50\n",
      "133/133 [==============================] - 27s 205ms/step - loss: 0.5315 - accuracy: 0.7290 - val_loss: 0.4180 - val_accuracy: 0.8317\n",
      "Epoch 6/50\n",
      "133/133 [==============================] - 26s 197ms/step - loss: 0.5003 - accuracy: 0.7767 - val_loss: 0.3778 - val_accuracy: 0.8221\n",
      "Epoch 7/50\n",
      "133/133 [==============================] - 26s 197ms/step - loss: 0.4911 - accuracy: 0.7597 - val_loss: 0.5235 - val_accuracy: 0.7500\n",
      "Epoch 8/50\n",
      "133/133 [==============================] - 26s 194ms/step - loss: 0.5055 - accuracy: 0.7808 - val_loss: 0.4031 - val_accuracy: 0.7981\n",
      "Epoch 9/50\n",
      "133/133 [==============================] - 26s 197ms/step - loss: 0.5286 - accuracy: 0.7655 - val_loss: 0.3503 - val_accuracy: 0.8462\n",
      "Epoch 10/50\n",
      "133/133 [==============================] - 26s 196ms/step - loss: 0.4974 - accuracy: 0.7690 - val_loss: 0.4673 - val_accuracy: 0.7692\n",
      "Epoch 11/50\n",
      "133/133 [==============================] - 28s 207ms/step - loss: 0.5045 - accuracy: 0.7614 - val_loss: 0.8623 - val_accuracy: 0.6250\n",
      "Epoch 12/50\n",
      "133/133 [==============================] - 28s 212ms/step - loss: 0.4728 - accuracy: 0.7782 - val_loss: 0.4735 - val_accuracy: 0.7548\n",
      "Epoch 13/50\n",
      "133/133 [==============================] - 30s 222ms/step - loss: 0.4963 - accuracy: 0.7730 - val_loss: 0.4004 - val_accuracy: 0.8077\n",
      "Epoch 14/50\n",
      "133/133 [==============================] - 32s 238ms/step - loss: 0.4781 - accuracy: 0.7742 - val_loss: 0.3745 - val_accuracy: 0.7788\n",
      "Epoch 15/50\n",
      "133/133 [==============================] - 26s 196ms/step - loss: 0.4676 - accuracy: 0.7672 - val_loss: 0.3587 - val_accuracy: 0.7933\n",
      "Epoch 16/50\n",
      "133/133 [==============================] - 26s 195ms/step - loss: 0.4892 - accuracy: 0.7785 - val_loss: 0.4641 - val_accuracy: 0.7740\n",
      "Epoch 17/50\n",
      "133/133 [==============================] - 26s 197ms/step - loss: 0.4594 - accuracy: 0.7802 - val_loss: 0.4240 - val_accuracy: 0.7788\n",
      "Epoch 18/50\n",
      "133/133 [==============================] - 26s 196ms/step - loss: 0.4779 - accuracy: 0.7912 - val_loss: 0.3848 - val_accuracy: 0.7885\n",
      "Epoch 19/50\n",
      "133/133 [==============================] - 26s 196ms/step - loss: 0.4470 - accuracy: 0.7927 - val_loss: 0.4633 - val_accuracy: 0.7356\n",
      "Epoch 20/50\n",
      "133/133 [==============================] - 26s 197ms/step - loss: 0.4691 - accuracy: 0.7823 - val_loss: 0.4494 - val_accuracy: 0.8221\n",
      "Epoch 21/50\n",
      "133/133 [==============================] - 26s 195ms/step - loss: 0.4741 - accuracy: 0.7910 - val_loss: 0.3669 - val_accuracy: 0.8077\n",
      "Epoch 22/50\n",
      "133/133 [==============================] - 26s 197ms/step - loss: 0.4514 - accuracy: 0.7779 - val_loss: 0.4100 - val_accuracy: 0.8077\n",
      "Epoch 23/50\n",
      "133/133 [==============================] - 27s 199ms/step - loss: 0.4786 - accuracy: 0.7843 - val_loss: 0.3418 - val_accuracy: 0.8173\n",
      "Epoch 24/50\n",
      "133/133 [==============================] - 27s 201ms/step - loss: 0.4972 - accuracy: 0.7866 - val_loss: 0.4004 - val_accuracy: 0.7596\n",
      "Epoch 25/50\n",
      "133/133 [==============================] - 28s 210ms/step - loss: 0.4669 - accuracy: 0.8016 - val_loss: 0.5744 - val_accuracy: 0.6875\n",
      "Epoch 26/50\n",
      "133/133 [==============================] - 28s 209ms/step - loss: 0.4372 - accuracy: 0.7904 - val_loss: 0.3900 - val_accuracy: 0.8173\n",
      "Epoch 27/50\n",
      "133/133 [==============================] - 27s 202ms/step - loss: 0.4366 - accuracy: 0.7906 - val_loss: 0.4291 - val_accuracy: 0.7837\n",
      "Epoch 28/50\n",
      "133/133 [==============================] - 27s 203ms/step - loss: 0.4568 - accuracy: 0.7947 - val_loss: 0.4105 - val_accuracy: 0.8173\n",
      "Epoch 29/50\n",
      "133/133 [==============================] - 29s 221ms/step - loss: 0.4602 - accuracy: 0.7956 - val_loss: 0.5578 - val_accuracy: 0.7500\n",
      "Epoch 30/50\n",
      "133/133 [==============================] - 31s 233ms/step - loss: 0.4581 - accuracy: 0.7910 - val_loss: 0.4334 - val_accuracy: 0.7885\n",
      "Epoch 31/50\n",
      "133/133 [==============================] - 27s 202ms/step - loss: 0.4963 - accuracy: 0.7776 - val_loss: 0.3703 - val_accuracy: 0.8317\n",
      "Epoch 32/50\n",
      "133/133 [==============================] - 27s 201ms/step - loss: 0.4785 - accuracy: 0.7852 - val_loss: 0.6147 - val_accuracy: 0.7500\n",
      "Epoch 33/50\n",
      "133/133 [==============================] - 26s 198ms/step - loss: 0.5480 - accuracy: 0.7927 - val_loss: 0.3426 - val_accuracy: 0.8413\n",
      "Epoch 34/50\n",
      "133/133 [==============================] - 27s 199ms/step - loss: 0.4536 - accuracy: 0.7817 - val_loss: 0.3855 - val_accuracy: 0.7981\n",
      "Epoch 35/50\n",
      "133/133 [==============================] - 27s 204ms/step - loss: 0.4332 - accuracy: 0.7958 - val_loss: 0.3780 - val_accuracy: 0.8125\n",
      "Epoch 36/50\n",
      "133/133 [==============================] - 27s 206ms/step - loss: 0.4468 - accuracy: 0.8020 - val_loss: 0.3895 - val_accuracy: 0.7740\n",
      "Epoch 37/50\n",
      "133/133 [==============================] - 26s 196ms/step - loss: 0.4628 - accuracy: 0.7979 - val_loss: 0.5212 - val_accuracy: 0.7500\n",
      "Epoch 38/50\n",
      "133/133 [==============================] - 28s 206ms/step - loss: 0.4773 - accuracy: 0.8031 - val_loss: 0.4868 - val_accuracy: 0.8125\n",
      "Epoch 39/50\n",
      "133/133 [==============================] - 28s 208ms/step - loss: 0.4541 - accuracy: 0.7782 - val_loss: 0.3882 - val_accuracy: 0.8317\n",
      "Epoch 40/50\n",
      "133/133 [==============================] - 28s 210ms/step - loss: 0.4508 - accuracy: 0.7802 - val_loss: 0.3311 - val_accuracy: 0.8125\n",
      "Epoch 41/50\n",
      "133/133 [==============================] - 29s 214ms/step - loss: 0.4571 - accuracy: 0.8028 - val_loss: 0.3524 - val_accuracy: 0.8269\n",
      "Epoch 42/50\n",
      "133/133 [==============================] - 28s 208ms/step - loss: 0.4587 - accuracy: 0.7852 - val_loss: 0.2756 - val_accuracy: 0.8558\n",
      "Epoch 43/50\n",
      "133/133 [==============================] - 26s 197ms/step - loss: 0.4502 - accuracy: 0.7921 - val_loss: 0.4327 - val_accuracy: 0.8077\n",
      "Epoch 44/50\n",
      "133/133 [==============================] - 28s 211ms/step - loss: 0.4649 - accuracy: 0.7962 - val_loss: 0.5175 - val_accuracy: 0.7500\n",
      "Epoch 45/50\n",
      "133/133 [==============================] - 30s 222ms/step - loss: 0.4391 - accuracy: 0.8054 - val_loss: 0.3329 - val_accuracy: 0.8558\n",
      "Epoch 46/50\n",
      "133/133 [==============================] - 29s 220ms/step - loss: 0.4765 - accuracy: 0.7869 - val_loss: 0.4268 - val_accuracy: 0.8173\n",
      "Epoch 47/50\n",
      "133/133 [==============================] - 28s 207ms/step - loss: 0.4549 - accuracy: 0.8010 - val_loss: 0.3554 - val_accuracy: 0.7981\n",
      "Epoch 48/50\n",
      "133/133 [==============================] - 27s 206ms/step - loss: 0.4382 - accuracy: 0.8016 - val_loss: 0.3401 - val_accuracy: 0.8077\n",
      "Epoch 49/50\n",
      "133/133 [==============================] - 26s 199ms/step - loss: 0.4785 - accuracy: 0.7991 - val_loss: 0.4310 - val_accuracy: 0.8125\n",
      "Epoch 50/50\n",
      "133/133 [==============================] - 27s 204ms/step - loss: 0.4896 - accuracy: 0.7805 - val_loss: 0.4341 - val_accuracy: 0.7692\n"
     ]
    }
   ],
   "source": [
    "history = model.fit_generator(\n",
    "        training_set,\n",
    "        steps_per_epoch=1729//13,   #number of input (image)\n",
    "        epochs=50,\n",
    "        validation_data=test_set\n",
    "        ,shuffle=True\n",
    "        ,validation_steps=208//13)          \n",
    "        # number of training sample\n",
    "\n",
    "model.save('model.h5')"
   ]
  },
  {
   "cell_type": "code",
   "execution_count": 10,
   "id": "0d39bdce",
   "metadata": {},
   "outputs": [
    {
     "data": {
      "text/plain": [
       "{'benign': 0, 'malignant': 1}"
      ]
     },
     "execution_count": 10,
     "metadata": {},
     "output_type": "execute_result"
    }
   ],
   "source": [
    " #print(history.history.keys())\n",
    "test_set.class_indices"
   ]
  },
  {
   "cell_type": "code",
   "execution_count": 11,
   "id": "81cf65d5",
   "metadata": {},
   "outputs": [
    {
     "name": "stdout",
     "output_type": "stream",
     "text": [
      "Model: \"sequential_1\"\n",
      "_________________________________________________________________\n",
      " Layer (type)                Output Shape              Param #   \n",
      "=================================================================\n",
      " conv2d_13 (Conv2D)          (None, 148, 148, 32)      896       \n",
      "                                                                 \n",
      " activation (Activation)     (None, 148, 148, 32)      0         \n",
      "                                                                 \n",
      " max_pooling2d_5 (MaxPooling  (None, 74, 74, 32)       0         \n",
      " 2D)                                                             \n",
      "                                                                 \n",
      " conv2d_14 (Conv2D)          (None, 72, 72, 32)        9248      \n",
      "                                                                 \n",
      " activation_1 (Activation)   (None, 72, 72, 32)        0         \n",
      "                                                                 \n",
      " max_pooling2d_6 (MaxPooling  (None, 36, 36, 32)       0         \n",
      " 2D)                                                             \n",
      "                                                                 \n",
      " conv2d_15 (Conv2D)          (None, 34, 34, 64)        18496     \n",
      "                                                                 \n",
      " activation_2 (Activation)   (None, 34, 34, 64)        0         \n",
      "                                                                 \n",
      " max_pooling2d_7 (MaxPooling  (None, 17, 17, 64)       0         \n",
      " 2D)                                                             \n",
      "                                                                 \n",
      " flatten_1 (Flatten)         (None, 18496)             0         \n",
      "                                                                 \n",
      " dense_3 (Dense)             (None, 64)                1183808   \n",
      "                                                                 \n",
      " activation_3 (Activation)   (None, 64)                0         \n",
      "                                                                 \n",
      " dropout_2 (Dropout)         (None, 64)                0         \n",
      "                                                                 \n",
      " dense_4 (Dense)             (None, 1)                 65        \n",
      "                                                                 \n",
      " activation_4 (Activation)   (None, 1)                 0         \n",
      "                                                                 \n",
      "=================================================================\n",
      "Total params: 1,212,513\n",
      "Trainable params: 1,212,513\n",
      "Non-trainable params: 0\n",
      "_________________________________________________________________\n"
     ]
    }
   ],
   "source": [
    "model.summary()"
   ]
  },
  {
   "cell_type": "code",
   "execution_count": 12,
   "id": "d8246b0a",
   "metadata": {},
   "outputs": [],
   "source": [
    "model.save_weights('first_try.h5')"
   ]
  },
  {
   "cell_type": "code",
   "execution_count": 13,
   "id": "54e2e5c8",
   "metadata": {},
   "outputs": [
    {
     "data": {
      "text/plain": [
       "{'benign': 0, 'malignant': 1}"
      ]
     },
     "execution_count": 13,
     "metadata": {},
     "output_type": "execute_result"
    }
   ],
   "source": [
    "training_set.class_indices"
   ]
  },
  {
   "cell_type": "code",
   "execution_count": 14,
   "id": "1e3080e5",
   "metadata": {},
   "outputs": [
    {
     "data": {
      "image/png": "[encoded data removed]",
      "text/plain": [
       "<Figure size 432x288 with 1 Axes>"
      ]
     },
     "metadata": {
      "needs_background": "light"
     },
     "output_type": "display_data"
    }
   ],
   "source": [
    "import matplotlib.pyplot as plt\n",
    "\n",
    "# summarize history for accuracy\n",
    "plt.plot(history.history['accuracy'])\n",
    "plt.plot(history.history['val_accuracy'])\n",
    "plt.title('model accuracy')\n",
    "plt.ylabel('accuracy')\n",
    "plt.xlabel('epoch')\n",
    "plt.legend(['train', 'test'], loc='upper left')\n",
    "plt.show()"
   ]
  },
  {
   "cell_type": "code",
   "execution_count": 15,
   "id": "c11ab86f",
   "metadata": {},
   "outputs": [
    {
     "data": {
      "image/png": "[encoded data removed]",
      "text/plain": [
       "<Figure size 432x288 with 1 Axes>"
      ]
     },
     "metadata": {
      "needs_background": "light"
     },
     "output_type": "display_data"
    }
   ],
   "source": [
    "# summarize history for loss\n",
    "plt.plot(history.history['loss'])\n",
    "plt.plot(history.history['val_loss'])\n",
    "plt.title('model loss')\n",
    "plt.ylabel('loss')\n",
    "plt.xlabel('epoch')\n",
    "plt.legend(['train', 'test'], loc='upper left')\n",
    "plt.show()"
   ]
  },
  {
   "cell_type": "code",
   "execution_count": 26,
   "id": "178c17f1",
   "metadata": {},
   "outputs": [
    {
     "name": "stdout",
     "output_type": "stream",
     "text": [
      "Prediksi: Benign\n"
     ]
    }
   ],
   "source": [
    "#PART 3 - Prediction\n",
    "\n",
    "import numpy as np\n",
    "from keras.preprocessing import image\n",
    "test_image = image.load_img(\n",
    "'C:/Users/HP/Downloads/dataset/test/benign/566.jpg',\n",
    "        target_size = (150,150))\n",
    "test_image = image.img_to_array(test_image) #making it 3D array as input layer is 3D     \n",
    "test_image = np.expand_dims(test_image,axis=0) #adding bias variable\n",
    "\n",
    "%timeit  \n",
    "result = model.predict(test_set)\n",
    "\n",
    "training_set.class_indices  #to check the value of outplut class assigned\n",
    "\n",
    "if result[0] > 0.5:\n",
    "    #prediction = \"Benign\"\n",
    "    print(\"Prediksi: Malignant\")\n",
    "else:\n",
    "  print(\"Prediksi: Benign\")\n"
   ]
  },
  {
   "cell_type": "code",
   "execution_count": null,
   "id": "68777a94",
   "metadata": {},
   "outputs": [],
   "source": []
  }
 ],
 "metadata": {
  "kernelspec": {
   "display_name": "Python 3 (ipykernel)",
   "language": "python",
   "name": "python3"
  },
  "language_info": {
   "codemirror_mode": {
    "name": "ipython",
    "version": 3
   },
   "file_extension": ".py",
   "mimetype": "text/x-python",
   "name": "python",
   "nbconvert_exporter": "python",
   "pygments_lexer": "ipython3",
   "version": "3.9.7"
  }
 },
 "nbformat": 4,
 "nbformat_minor": 5
}
